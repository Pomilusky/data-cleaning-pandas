{
 "cells": [
  {
   "cell_type": "code",
   "execution_count": 276,
   "metadata": {},
   "outputs": [],
   "source": [
    "# First lets import all the libraries we are gonna use,\n",
    "import functions as fun \n",
    "import pandas as pd\n"
   ]
  },
  {
   "cell_type": "code",
   "execution_count": 277,
   "metadata": {},
   "outputs": [],
   "source": [
    "# Now lets open and define the DataFrame,\n",
    "df = pd.read_csv('/mnt/c/Users/marcn/Documents/Ironhack/sharky/Data/attacks.csv', encoding=\"ISO-8859-1\")\n",
    "new_dict = {i: i.strip().replace(\" \", \"_\").replace('.','').lower() for i in df.columns}\n",
    "df.rename(columns=new_dict, inplace=True)\n",
    "df.drop(columns= ['unnamed:_22', 'unnamed:_23','area','location', 'type','injury', 'fatal_(y/n)', 'time','investigator_or_source', 'pdf', 'href_formula', 'href','original_order' ], inplace=True) # We are dropping the unnecesary data for our study\n",
    "df.dropna(axis = 0, how = 'all', inplace = True)\n",
    "# Let's make it a little more easy to work with by renaming columns:\n"
   ]
  },
  {
   "cell_type": "code",
   "execution_count": 278,
   "metadata": {},
   "outputs": [
    {
     "name": "stdout",
     "output_type": "stream",
     "text": [
      "['case_number', 'date', 'year', 'country', 'activity', 'name', 'sex', 'age', 'species', 'case_number1', 'case_number2']\n"
     ]
    }
   ],
   "source": [
    "# Once with our dataframe defined we can start cleaning the data, lets first do a little further exploration on it,\n",
    "# Let's see what data contains information about the Year when the attack happened,\n",
    "a = list(df.columns)\n",
    "print(a)"
   ]
  },
  {
   "cell_type": "code",
   "execution_count": 279,
   "metadata": {},
   "outputs": [
    {
     "data": {
      "text/plain": [
       "case_number        1\n",
       "date            2401\n",
       "year            2403\n",
       "country         2451\n",
       "activity        2945\n",
       "name            2611\n",
       "sex             2966\n",
       "age             5232\n",
       "species         5239\n",
       "case_number1    2401\n",
       "case_number2    2401\n",
       "dtype: int64"
      ]
     },
     "execution_count": 279,
     "metadata": {},
     "output_type": "execute_result"
    }
   ],
   "source": [
    "# Let's check the nulls,\n",
    "df.isnull().sum() # It is quite obvious we can drop the last 2 columns"
   ]
  },
  {
   "cell_type": "code",
   "execution_count": null,
   "metadata": {},
   "outputs": [],
   "source": []
  },
  {
   "cell_type": "code",
   "execution_count": 280,
   "metadata": {},
   "outputs": [
    {
     "data": {
      "text/html": [
       "<div>\n",
       "<style scoped>\n",
       "    .dataframe tbody tr th:only-of-type {\n",
       "        vertical-align: middle;\n",
       "    }\n",
       "\n",
       "    .dataframe tbody tr th {\n",
       "        vertical-align: top;\n",
       "    }\n",
       "\n",
       "    .dataframe thead th {\n",
       "        text-align: right;\n",
       "    }\n",
       "</style>\n",
       "<table border=\"1\" class=\"dataframe\">\n",
       "  <thead>\n",
       "    <tr style=\"text-align: right;\">\n",
       "      <th></th>\n",
       "      <th>case_number</th>\n",
       "      <th>date</th>\n",
       "      <th>year</th>\n",
       "      <th>country</th>\n",
       "      <th>activity</th>\n",
       "      <th>name</th>\n",
       "      <th>sex</th>\n",
       "      <th>age</th>\n",
       "      <th>species</th>\n",
       "      <th>case_number1</th>\n",
       "      <th>case_number2</th>\n",
       "    </tr>\n",
       "  </thead>\n",
       "  <tbody>\n",
       "    <tr>\n",
       "      <th>15</th>\n",
       "      <td>2018.05.12</td>\n",
       "      <td>12-May-2018</td>\n",
       "      <td>2018.0</td>\n",
       "      <td>SOUTH AFRICA</td>\n",
       "      <td>Surfing</td>\n",
       "      <td>male</td>\n",
       "      <td>M</td>\n",
       "      <td>NaN</td>\n",
       "      <td>NaN</td>\n",
       "      <td>2018.05.12</td>\n",
       "      <td>2018.05.12</td>\n",
       "    </tr>\n",
       "    <tr>\n",
       "      <th>3947</th>\n",
       "      <td>1960.11.22</td>\n",
       "      <td>22-Nov-1960</td>\n",
       "      <td>1960.0</td>\n",
       "      <td>USA</td>\n",
       "      <td>Fell overboard, prop slashed arm</td>\n",
       "      <td>Sarah Peggy Sargent</td>\n",
       "      <td>F</td>\n",
       "      <td>51</td>\n",
       "      <td>Shark involvement prior to death was not confi...</td>\n",
       "      <td>1960.11.22</td>\n",
       "      <td>1960.11.22</td>\n",
       "    </tr>\n",
       "    <tr>\n",
       "      <th>826</th>\n",
       "      <td>2012.01.13</td>\n",
       "      <td>13-Jan-2012</td>\n",
       "      <td>2012.0</td>\n",
       "      <td>USA</td>\n",
       "      <td>Surfing</td>\n",
       "      <td>Steve Harnack</td>\n",
       "      <td>M</td>\n",
       "      <td>53</td>\n",
       "      <td>White shark</td>\n",
       "      <td>2012.01.13</td>\n",
       "      <td>2012.01.13</td>\n",
       "    </tr>\n",
       "  </tbody>\n",
       "</table>\n",
       "</div>"
      ],
      "text/plain": [
       "     case_number         date    year       country  \\\n",
       "15    2018.05.12  12-May-2018  2018.0  SOUTH AFRICA   \n",
       "3947  1960.11.22  22-Nov-1960  1960.0           USA   \n",
       "826   2012.01.13  13-Jan-2012  2012.0           USA   \n",
       "\n",
       "                              activity                 name sex  age  \\\n",
       "15                             Surfing                 male   M  NaN   \n",
       "3947  Fell overboard, prop slashed arm  Sarah Peggy Sargent   F   51   \n",
       "826                            Surfing        Steve Harnack   M   53   \n",
       "\n",
       "                                                species case_number1  \\\n",
       "15                                                  NaN   2018.05.12   \n",
       "3947  Shark involvement prior to death was not confi...   1960.11.22   \n",
       "826                                         White shark   2012.01.13   \n",
       "\n",
       "     case_number2  \n",
       "15     2018.05.12  \n",
       "3947   1960.11.22  \n",
       "826    2012.01.13  "
      ]
     },
     "execution_count": 280,
     "metadata": {},
     "output_type": "execute_result"
    }
   ],
   "source": [
    "#some important observations:\n",
    "\"\"\" We see that many cases are not dated, just labeld as before some year. We can't use this data, it is not precise.\n",
    "Also there is some data that is labeled with a range between 2 years. The range is never higher than 20 years in the observed sample, so i am going\n",
    "to use this data, eventhough it is not very precise it is bounded. \"\"\"\n",
    "df[df[['case_number','date','year']].notnull().all(1)].sample(3)\n"
   ]
  },
  {
   "cell_type": "code",
   "execution_count": 281,
   "metadata": {},
   "outputs": [
    {
     "data": {
      "text/html": [
       "<div>\n",
       "<style scoped>\n",
       "    .dataframe tbody tr th:only-of-type {\n",
       "        vertical-align: middle;\n",
       "    }\n",
       "\n",
       "    .dataframe tbody tr th {\n",
       "        vertical-align: top;\n",
       "    }\n",
       "\n",
       "    .dataframe thead th {\n",
       "        text-align: right;\n",
       "    }\n",
       "</style>\n",
       "<table border=\"1\" class=\"dataframe\">\n",
       "  <thead>\n",
       "    <tr style=\"text-align: right;\">\n",
       "      <th></th>\n",
       "      <th>case_number</th>\n",
       "      <th>date</th>\n",
       "      <th>year</th>\n",
       "      <th>country</th>\n",
       "      <th>activity</th>\n",
       "      <th>name</th>\n",
       "      <th>sex</th>\n",
       "      <th>age</th>\n",
       "      <th>species</th>\n",
       "      <th>case_number1</th>\n",
       "      <th>case_number2</th>\n",
       "    </tr>\n",
       "  </thead>\n",
       "  <tbody>\n",
       "    <tr>\n",
       "      <th>8698</th>\n",
       "      <td>0</td>\n",
       "      <td>NaN</td>\n",
       "      <td>NaN</td>\n",
       "      <td>NaN</td>\n",
       "      <td>NaN</td>\n",
       "      <td>NaN</td>\n",
       "      <td>NaN</td>\n",
       "      <td>NaN</td>\n",
       "      <td>NaN</td>\n",
       "      <td>NaN</td>\n",
       "      <td>NaN</td>\n",
       "    </tr>\n",
       "    <tr>\n",
       "      <th>8699</th>\n",
       "      <td>0</td>\n",
       "      <td>NaN</td>\n",
       "      <td>NaN</td>\n",
       "      <td>NaN</td>\n",
       "      <td>NaN</td>\n",
       "      <td>NaN</td>\n",
       "      <td>NaN</td>\n",
       "      <td>NaN</td>\n",
       "      <td>NaN</td>\n",
       "      <td>NaN</td>\n",
       "      <td>NaN</td>\n",
       "    </tr>\n",
       "    <tr>\n",
       "      <th>8700</th>\n",
       "      <td>0</td>\n",
       "      <td>NaN</td>\n",
       "      <td>NaN</td>\n",
       "      <td>NaN</td>\n",
       "      <td>NaN</td>\n",
       "      <td>NaN</td>\n",
       "      <td>NaN</td>\n",
       "      <td>NaN</td>\n",
       "      <td>NaN</td>\n",
       "      <td>NaN</td>\n",
       "      <td>NaN</td>\n",
       "    </tr>\n",
       "    <tr>\n",
       "      <th>8701</th>\n",
       "      <td>0</td>\n",
       "      <td>NaN</td>\n",
       "      <td>NaN</td>\n",
       "      <td>NaN</td>\n",
       "      <td>NaN</td>\n",
       "      <td>NaN</td>\n",
       "      <td>NaN</td>\n",
       "      <td>NaN</td>\n",
       "      <td>NaN</td>\n",
       "      <td>NaN</td>\n",
       "      <td>NaN</td>\n",
       "    </tr>\n",
       "    <tr>\n",
       "      <th>25722</th>\n",
       "      <td>xx</td>\n",
       "      <td>NaN</td>\n",
       "      <td>NaN</td>\n",
       "      <td>NaN</td>\n",
       "      <td>NaN</td>\n",
       "      <td>NaN</td>\n",
       "      <td>NaN</td>\n",
       "      <td>NaN</td>\n",
       "      <td>NaN</td>\n",
       "      <td>NaN</td>\n",
       "      <td>NaN</td>\n",
       "    </tr>\n",
       "  </tbody>\n",
       "</table>\n",
       "</div>"
      ],
      "text/plain": [
       "      case_number date  year country activity name  sex  age species  \\\n",
       "8698            0  NaN   NaN     NaN      NaN  NaN  NaN  NaN     NaN   \n",
       "8699            0  NaN   NaN     NaN      NaN  NaN  NaN  NaN     NaN   \n",
       "8700            0  NaN   NaN     NaN      NaN  NaN  NaN  NaN     NaN   \n",
       "8701            0  NaN   NaN     NaN      NaN  NaN  NaN  NaN     NaN   \n",
       "25722          xx  NaN   NaN     NaN      NaN  NaN  NaN  NaN     NaN   \n",
       "\n",
       "      case_number1 case_number2  \n",
       "8698           NaN          NaN  \n",
       "8699           NaN          NaN  \n",
       "8700           NaN          NaN  \n",
       "8701           NaN          NaN  \n",
       "25722          NaN          NaN  "
      ]
     },
     "execution_count": 281,
     "metadata": {},
     "output_type": "execute_result"
    }
   ],
   "source": [
    "df.loc[df['year'].isnull()].tail()\n"
   ]
  },
  {
   "cell_type": "markdown",
   "metadata": {},
   "source": [
    "### Cleaning by date,\n",
    "The feature I want to focus on is the year of the attack, so what I am going to do is try to assing a year to each attack, if possible. First, I observed that 125 of the attacks are assigned year '0.0', but for most of the cases in the date column there is more information about the date, all that have a date with the string 'Before' in it are not going to count for the study, and the ones with a range in them are going to be assigned the date in the middle of the range. Also, I am going to take in account all the attacks that happened A.D, and drop everything B.C. \n",
    "\n",
    "The order of cleaning will go as follows:\n",
    "1. First i am going locate all the data that has a NaN or a 0.0 in the Year column. And work with those.\n",
    "2. After that, I am going to grop all the rows with Dates that have 'B.C' in them.\n",
    "3. Now, the Dates that go as: '\\d{4}-\\d{4}' are going to be replaced with the year in between. \n",
    "4. In some rare cases there is also a string such as: Late 1970's, we are going to try and find an s afer a number, if we find it we are going to return number+5 (in this cas 1975, so it is more or less precise with both earlies and late).\n",
    "5. And finally, for the rest with a NaN or a 0.0 in their year column, I am going to try and find a string with '\\d{4}|\\d{3}' in them, and replace the year value for the found value. \n",
    "\n"
   ]
  },
  {
   "cell_type": "code",
   "execution_count": 282,
   "metadata": {},
   "outputs": [
    {
     "data": {
      "text/plain": [
       "4970    1933.02.15.R\n",
       "6484               0\n",
       "489       2014.10.11\n",
       "6242         ND.0064\n",
       "2924    1983.08.13.b\n",
       "4821      1938.03.08\n",
       "347     2015.10.09.b\n",
       "3156      1977.02.04\n",
       "8638               0\n",
       "6046    1847.00.00.b\n",
       "Name: case_number, dtype: object"
      ]
     },
     "execution_count": 282,
     "metadata": {},
     "output_type": "execute_result"
    }
   ],
   "source": [
    "df.case_number.sample(10)"
   ]
  },
  {
   "cell_type": "code",
   "execution_count": 283,
   "metadata": {},
   "outputs": [],
   "source": [
    "df['year'] = df.year.apply(fun.clean_column)\n",
    "df['case_number'] = df.case_number.apply(fun.clean_column)\n",
    "df['case_number1'] = df.case_number1.apply(fun.clean_column)\n",
    "df['case_number2'] = df.case_number2.apply(fun.clean_column)\n",
    "#df['date'] = df.date.apply(fun.clean_column)\n",
    "df.dropna(axis = 0, how = 'all', inplace = True)"
   ]
  },
  {
   "cell_type": "code",
   "execution_count": 284,
   "metadata": {},
   "outputs": [
    {
     "data": {
      "text/plain": [
       "3722    1963.0\n",
       "985     2010.0\n",
       "3378    1970.0\n",
       "2500    1993.0\n",
       "6094    1829.0\n",
       "493     2014.0\n",
       "5790    1883.0\n",
       "991     2010.0\n",
       "2093    1999.0\n",
       "945     2011.0\n",
       "Name: case_number, dtype: float64"
      ]
     },
     "execution_count": 284,
     "metadata": {},
     "output_type": "execute_result"
    }
   ],
   "source": [
    "df.case_number.sample(10)"
   ]
  },
  {
   "cell_type": "code",
   "execution_count": 285,
   "metadata": {},
   "outputs": [
    {
     "ename": "AttributeError",
     "evalue": "module 'functions' has no attribute 'year_replacement'",
     "output_type": "error",
     "traceback": [
      "\u001b[0;31m---------------------------------------------------------------------------\u001b[0m",
      "\u001b[0;31mAttributeError\u001b[0m                            Traceback (most recent call last)",
      "\u001b[0;32m<ipython-input-285-98e8eb34691e>\u001b[0m in \u001b[0;36m<module>\u001b[0;34m\u001b[0m\n\u001b[0;32m----> 1\u001b[0;31m \u001b[0mdf\u001b[0m\u001b[0;34m[\u001b[0m\u001b[0;34m'year'\u001b[0m\u001b[0;34m]\u001b[0m \u001b[0;34m=\u001b[0m \u001b[0mfun\u001b[0m\u001b[0;34m.\u001b[0m\u001b[0myear_replacement\u001b[0m\u001b[0;34m(\u001b[0m\u001b[0;34m[\u001b[0m\u001b[0mdf\u001b[0m\u001b[0;34m[\u001b[0m\u001b[0;34m'year'\u001b[0m\u001b[0;34m]\u001b[0m\u001b[0;34m,\u001b[0m \u001b[0mdf\u001b[0m\u001b[0;34m.\u001b[0m\u001b[0mdate\u001b[0m\u001b[0;34m,\u001b[0m \u001b[0mdf\u001b[0m\u001b[0;34m.\u001b[0m\u001b[0mcase_number\u001b[0m\u001b[0;34m,\u001b[0m \u001b[0mdf\u001b[0m\u001b[0;34m.\u001b[0m\u001b[0mcase_number1\u001b[0m\u001b[0;34m,\u001b[0m \u001b[0mdf\u001b[0m\u001b[0;34m.\u001b[0m\u001b[0mcase_number2\u001b[0m\u001b[0;34m]\u001b[0m\u001b[0;34m)\u001b[0m\u001b[0;34m\u001b[0m\u001b[0;34m\u001b[0m\u001b[0m\n\u001b[0m",
      "\u001b[0;31mAttributeError\u001b[0m: module 'functions' has no attribute 'year_replacement'"
     ]
    }
   ],
   "source": [
    "df['year'] = fun.year_replacement([df['year'], df.date, df.case_number, df.case_number1, df.case_number2])"
   ]
  },
  {
   "cell_type": "code",
   "execution_count": null,
   "metadata": {},
   "outputs": [],
   "source": [
    "# Let's now clean the country column and make it more easy to read:\n",
    "df['country'] = df.country.apply(lambda x: str(x).strip().replace(\" \", \"_\").lower())"
   ]
  },
  {
   "cell_type": "code",
   "execution_count": 286,
   "metadata": {},
   "outputs": [
    {
     "ename": "AttributeError",
     "evalue": "module 'functions' has no attribute 'clean_names'",
     "output_type": "error",
     "traceback": [
      "\u001b[0;31m---------------------------------------------------------------------------\u001b[0m",
      "\u001b[0;31mAttributeError\u001b[0m                            Traceback (most recent call last)",
      "\u001b[0;32m<ipython-input-286-380ee45cac72>\u001b[0m in \u001b[0;36m<module>\u001b[0;34m\u001b[0m\n\u001b[1;32m      1\u001b[0m \u001b[0;31m# let's clean the data that yields information about the people that were attacked by sharks,\u001b[0m\u001b[0;34m\u001b[0m\u001b[0;34m\u001b[0m\u001b[0;34m\u001b[0m\u001b[0m\n\u001b[0;32m----> 2\u001b[0;31m \u001b[0mdf\u001b[0m\u001b[0;34m[\u001b[0m\u001b[0;34m'name'\u001b[0m\u001b[0;34m]\u001b[0m \u001b[0;34m=\u001b[0m \u001b[0mdf\u001b[0m\u001b[0;34m[\u001b[0m\u001b[0;34m'name'\u001b[0m\u001b[0;34m]\u001b[0m\u001b[0;34m.\u001b[0m\u001b[0mapply\u001b[0m\u001b[0;34m(\u001b[0m\u001b[0mfun\u001b[0m\u001b[0;34m.\u001b[0m\u001b[0mclean_names\u001b[0m\u001b[0;34m)\u001b[0m\u001b[0;34m\u001b[0m\u001b[0;34m\u001b[0m\u001b[0m\n\u001b[0m",
      "\u001b[0;31mAttributeError\u001b[0m: module 'functions' has no attribute 'clean_names'"
     ]
    }
   ],
   "source": [
    "# let's clean the data that yields information about the people that were attacked by sharks,\n",
    "df['name'] = df['name'].apply(fun.clean_names)"
   ]
  },
  {
   "cell_type": "code",
   "execution_count": 287,
   "metadata": {},
   "outputs": [
    {
     "ename": "AttributeError",
     "evalue": "module 'functions' has no attribute 'clean_sex'",
     "output_type": "error",
     "traceback": [
      "\u001b[0;31m---------------------------------------------------------------------------\u001b[0m",
      "\u001b[0;31mAttributeError\u001b[0m                            Traceback (most recent call last)",
      "\u001b[0;32m<ipython-input-287-ff215b980296>\u001b[0m in \u001b[0;36m<module>\u001b[0;34m\u001b[0m\n\u001b[0;32m----> 1\u001b[0;31m \u001b[0mdf\u001b[0m\u001b[0;34m[\u001b[0m\u001b[0;34m'sex'\u001b[0m\u001b[0;34m]\u001b[0m \u001b[0;34m=\u001b[0m \u001b[0mdf\u001b[0m\u001b[0;34m.\u001b[0m\u001b[0msex\u001b[0m\u001b[0;34m.\u001b[0m\u001b[0mapply\u001b[0m\u001b[0;34m(\u001b[0m\u001b[0mfun\u001b[0m\u001b[0;34m.\u001b[0m\u001b[0mclean_sex\u001b[0m\u001b[0;34m)\u001b[0m\u001b[0;34m\u001b[0m\u001b[0;34m\u001b[0m\u001b[0m\n\u001b[0m",
      "\u001b[0;31mAttributeError\u001b[0m: module 'functions' has no attribute 'clean_sex'"
     ]
    }
   ],
   "source": [
    "df['sex'] = df.sex.apply(fun.clean_sex)"
   ]
  },
  {
   "cell_type": "code",
   "execution_count": null,
   "metadata": {},
   "outputs": [],
   "source": []
  },
  {
   "cell_type": "code",
   "execution_count": null,
   "metadata": {},
   "outputs": [],
   "source": []
  },
  {
   "cell_type": "code",
   "execution_count": null,
   "metadata": {},
   "outputs": [],
   "source": []
  }
 ],
 "metadata": {
  "interpreter": {
   "hash": "d00a1931e609772884d4e4263bd83cd526fe20ad88d0f2499e0ed4fd2f889d0e"
  },
  "kernelspec": {
   "display_name": "Python 3.8.5 64-bit ('ironhack': conda)",
   "language": "python",
   "name": "python3"
  },
  "language_info": {
   "codemirror_mode": {
    "name": "ipython",
    "version": 3
   },
   "file_extension": ".py",
   "mimetype": "text/x-python",
   "name": "python",
   "nbconvert_exporter": "python",
   "pygments_lexer": "ipython3",
   "version": "3.8.5"
  },
  "orig_nbformat": 4
 },
 "nbformat": 4,
 "nbformat_minor": 2
}
