{
 "cells": [
  {
   "cell_type": "code",
   "execution_count": 2,
   "metadata": {},
   "outputs": [],
   "source": [
    "import pandas as pd"
   ]
  },
  {
   "cell_type": "code",
   "execution_count": 3,
   "metadata": {},
   "outputs": [
    {
     "name": "stdout",
     "output_type": "stream",
     "text": [
      "(25723, 24)\n",
      "<class 'pandas.core.frame.DataFrame'>\n",
      "RangeIndex: 25723 entries, 0 to 25722\n",
      "Data columns (total 24 columns):\n",
      " #   Column                  Non-Null Count  Dtype  \n",
      "---  ------                  --------------  -----  \n",
      " 0   Case Number             8702 non-null   object \n",
      " 1   Date                    6302 non-null   object \n",
      " 2   Year                    6300 non-null   float64\n",
      " 3   Type                    6298 non-null   object \n",
      " 4   Country                 6252 non-null   object \n",
      " 5   Area                    5847 non-null   object \n",
      " 6   Location                5762 non-null   object \n",
      " 7   Activity                5758 non-null   object \n",
      " 8   Name                    6092 non-null   object \n",
      " 9   Sex                     5737 non-null   object \n",
      " 10  Age                     3471 non-null   object \n",
      " 11  Injury                  6274 non-null   object \n",
      " 12  Fatal (Y/N)             5763 non-null   object \n",
      " 13  Time                    2948 non-null   object \n",
      " 14  Species                 3464 non-null   object \n",
      " 15  Investigator or Source  6285 non-null   object \n",
      " 16  pdf                     6302 non-null   object \n",
      " 17  href formula            6301 non-null   object \n",
      " 18  href                    6302 non-null   object \n",
      " 19  Case Number.1           6302 non-null   object \n",
      " 20  Case Number.2           6302 non-null   object \n",
      " 21  original order          6309 non-null   float64\n",
      " 22  Unnamed: 22             1 non-null      object \n",
      " 23  Unnamed: 23             2 non-null      object \n",
      "dtypes: float64(2), object(22)\n",
      "memory usage: 4.7+ MB\n"
     ]
    },
    {
     "data": {
      "text/plain": [
       "None"
      ]
     },
     "metadata": {},
     "output_type": "display_data"
    },
    {
     "data": {
      "text/html": [
       "<div>\n",
       "<style scoped>\n",
       "    .dataframe tbody tr th:only-of-type {\n",
       "        vertical-align: middle;\n",
       "    }\n",
       "\n",
       "    .dataframe tbody tr th {\n",
       "        vertical-align: top;\n",
       "    }\n",
       "\n",
       "    .dataframe thead th {\n",
       "        text-align: right;\n",
       "    }\n",
       "</style>\n",
       "<table border=\"1\" class=\"dataframe\">\n",
       "  <thead>\n",
       "    <tr style=\"text-align: right;\">\n",
       "      <th></th>\n",
       "      <th>Case Number</th>\n",
       "      <th>Date</th>\n",
       "      <th>Year</th>\n",
       "      <th>Type</th>\n",
       "      <th>Country</th>\n",
       "      <th>Area</th>\n",
       "      <th>Location</th>\n",
       "      <th>Activity</th>\n",
       "      <th>Name</th>\n",
       "      <th>Sex</th>\n",
       "      <th>...</th>\n",
       "      <th>Species</th>\n",
       "      <th>Investigator or Source</th>\n",
       "      <th>pdf</th>\n",
       "      <th>href formula</th>\n",
       "      <th>href</th>\n",
       "      <th>Case Number.1</th>\n",
       "      <th>Case Number.2</th>\n",
       "      <th>original order</th>\n",
       "      <th>Unnamed: 22</th>\n",
       "      <th>Unnamed: 23</th>\n",
       "    </tr>\n",
       "  </thead>\n",
       "  <tbody>\n",
       "    <tr>\n",
       "      <th>22289</th>\n",
       "      <td>NaN</td>\n",
       "      <td>NaN</td>\n",
       "      <td>NaN</td>\n",
       "      <td>NaN</td>\n",
       "      <td>NaN</td>\n",
       "      <td>NaN</td>\n",
       "      <td>NaN</td>\n",
       "      <td>NaN</td>\n",
       "      <td>NaN</td>\n",
       "      <td>NaN</td>\n",
       "      <td>...</td>\n",
       "      <td>NaN</td>\n",
       "      <td>NaN</td>\n",
       "      <td>NaN</td>\n",
       "      <td>NaN</td>\n",
       "      <td>NaN</td>\n",
       "      <td>NaN</td>\n",
       "      <td>NaN</td>\n",
       "      <td>NaN</td>\n",
       "      <td>NaN</td>\n",
       "      <td>NaN</td>\n",
       "    </tr>\n",
       "    <tr>\n",
       "      <th>15880</th>\n",
       "      <td>NaN</td>\n",
       "      <td>NaN</td>\n",
       "      <td>NaN</td>\n",
       "      <td>NaN</td>\n",
       "      <td>NaN</td>\n",
       "      <td>NaN</td>\n",
       "      <td>NaN</td>\n",
       "      <td>NaN</td>\n",
       "      <td>NaN</td>\n",
       "      <td>NaN</td>\n",
       "      <td>...</td>\n",
       "      <td>NaN</td>\n",
       "      <td>NaN</td>\n",
       "      <td>NaN</td>\n",
       "      <td>NaN</td>\n",
       "      <td>NaN</td>\n",
       "      <td>NaN</td>\n",
       "      <td>NaN</td>\n",
       "      <td>NaN</td>\n",
       "      <td>NaN</td>\n",
       "      <td>NaN</td>\n",
       "    </tr>\n",
       "    <tr>\n",
       "      <th>24724</th>\n",
       "      <td>NaN</td>\n",
       "      <td>NaN</td>\n",
       "      <td>NaN</td>\n",
       "      <td>NaN</td>\n",
       "      <td>NaN</td>\n",
       "      <td>NaN</td>\n",
       "      <td>NaN</td>\n",
       "      <td>NaN</td>\n",
       "      <td>NaN</td>\n",
       "      <td>NaN</td>\n",
       "      <td>...</td>\n",
       "      <td>NaN</td>\n",
       "      <td>NaN</td>\n",
       "      <td>NaN</td>\n",
       "      <td>NaN</td>\n",
       "      <td>NaN</td>\n",
       "      <td>NaN</td>\n",
       "      <td>NaN</td>\n",
       "      <td>NaN</td>\n",
       "      <td>NaN</td>\n",
       "      <td>NaN</td>\n",
       "    </tr>\n",
       "  </tbody>\n",
       "</table>\n",
       "<p>3 rows × 24 columns</p>\n",
       "</div>"
      ],
      "text/plain": [
       "      Case Number Date  Year Type Country Area Location Activity Name Sex   \\\n",
       "22289         NaN  NaN   NaN  NaN     NaN  NaN      NaN      NaN  NaN  NaN   \n",
       "15880         NaN  NaN   NaN  NaN     NaN  NaN      NaN      NaN  NaN  NaN   \n",
       "24724         NaN  NaN   NaN  NaN     NaN  NaN      NaN      NaN  NaN  NaN   \n",
       "\n",
       "       ... Species  Investigator or Source  pdf href formula href  \\\n",
       "22289  ...      NaN                    NaN  NaN          NaN  NaN   \n",
       "15880  ...      NaN                    NaN  NaN          NaN  NaN   \n",
       "24724  ...      NaN                    NaN  NaN          NaN  NaN   \n",
       "\n",
       "      Case Number.1 Case Number.2 original order Unnamed: 22 Unnamed: 23  \n",
       "22289           NaN           NaN            NaN         NaN         NaN  \n",
       "15880           NaN           NaN            NaN         NaN         NaN  \n",
       "24724           NaN           NaN            NaN         NaN         NaN  \n",
       "\n",
       "[3 rows x 24 columns]"
      ]
     },
     "execution_count": 3,
     "metadata": {},
     "output_type": "execute_result"
    }
   ],
   "source": [
    "df = pd.read_csv('/mnt/c/Users/marcn/Documents/Ironhack/sharky/Data/attacks.csv', encoding=\"ISO-8859-1\")\n",
    "print(df.shape)\n",
    "display(df.info())\n",
    "df.sample(3)"
   ]
  },
  {
   "cell_type": "code",
   "execution_count": 4,
   "metadata": {},
   "outputs": [
    {
     "data": {
      "text/plain": [
       "Index(['Case Number', 'Date', 'Year', 'Type', 'Country', 'Area', 'Location',\n",
       "       'Activity', 'Name', 'Sex ', 'Age', 'Injury', 'Fatal (Y/N)', 'Time',\n",
       "       'Species ', 'Investigator or Source', 'pdf', 'href formula', 'href',\n",
       "       'Case Number.1', 'Case Number.2', 'original order', 'Unnamed: 22',\n",
       "       'Unnamed: 23'],\n",
       "      dtype='object')"
      ]
     },
     "execution_count": 4,
     "metadata": {},
     "output_type": "execute_result"
    }
   ],
   "source": [
    "df.columns"
   ]
  },
  {
   "cell_type": "markdown",
   "metadata": {},
   "source": [
    "We have 23 parameters related to 25723 different cases.\n",
    "The good news is that we have many cases, the bad news is that the data has a lot of NaNs to be filled. \n",
    "\n",
    "We need to filter the data in order to work with it. Decide wether to keep or not each column. \n",
    "\n",
    "With the method .unique() we can check the different values of each column, I did so for the columns named 'Unnamed:22' and 'Unamed: 23', and discovered that the data in them is completly irrelevant to the study, so we can drop them. \n",
    "'"
   ]
  },
  {
   "cell_type": "code",
   "execution_count": 5,
   "metadata": {},
   "outputs": [],
   "source": [
    "df.drop(axis=0, index=None, columns=['Unnamed: 23', 'Unnamed: 22'], level=None, inplace=True) "
   ]
  },
  {
   "cell_type": "markdown",
   "metadata": {},
   "source": [
    "Another way to select data from the dataframe, is to try and imporve the data in the whole Data frame as it is and then to take from it the columns we are going to use, creating a new data frame insted of dropping data from the original one. "
   ]
  },
  {
   "cell_type": "code",
   "execution_count": 6,
   "metadata": {},
   "outputs": [
    {
     "name": "stdout",
     "output_type": "stream",
     "text": [
      "[2018.0, 2017.0, nan, 2016.0, 2015.0, 2014.0, 2013.0, 2012.0, 2011.0, 2010.0, 2009.0, 2008.0, 2007.0, 2006.0, 2005.0, 2004.0, 2003.0, 2002.0, 2001.0, 2000.0] 250\n"
     ]
    }
   ],
   "source": [
    "a = list(df['Year'].unique())\n",
    "print(a[:20], len(a))"
   ]
  },
  {
   "cell_type": "markdown",
   "metadata": {},
   "source": [
    "I will try to extract some data from this Data frame. First of all I would like to know how does the number of shark attacks evolve with time. If they have increased or decreased and if they have done so according to the growing rate of earth population. \n",
    "\n",
    "I would also like to study where do most of the attacks happen, what countries.\n",
    "\n",
    "And last but not least, what are the human features that make people look more appetizing to sharks. Is it the Sex/Gender? Is it the Age? Or, maybe, the first letter of their name?\n",
    "\n",
    "\n",
    "Now, let's hypothesize:\n",
    "1. First, I think the evolution of Shark attacks during history will rapidly grow from the first ages until now. For two main reasons:\n",
    "+ In the past most shark attacks weren't reported, so the bast majority of them won't be registered. I assume that we are going to observe a huge growth at some point, wherever we observe a huge slope in the increase of cases is probably where the attacks started to be reported more often. This makes the prior data less reliable, of course. \n",
    "+ The second reason that makes it grow is the rapid advance of the population growth in the planet, the more the human activity, the more the sharks are going to attack humans, right?\n",
    "\n",
    "\n",
    "All in all, I belive that the number of attacks is going to increase with time, first it will increase very rapidly, then it will, probably, \n",
    "stabilize, due to the growth on the security and maybe the disminution of shark population, so even though it will still grow it won't do so accordingly to the groth of human population.\n",
    "\n",
    "\n",
    "2. Where is it more likely that a shark attacks you? My guess, near the tropics. I think is where most of the shark population is placed. In this point of the project it will probably be interesting to study the Species that attack in each place, it will give us an insight on the places where each Specie is more commontly found. \n",
    "\n",
    "3. This is, probavly, the easiest part of the study. The ages where humans have more water activities, such as boating or surfing, are going to be the more affected by shark attacks, with a first quick look probably the more affected ages will be between the 20's and the 40's. Probably most of the attacks will be to men. Specially in the past, due to the systematic invisibility of women in society and also because Gener roles make men more reckless (For instance, if we had the data, I am sure that most of the historic cases in the data source are from white men). Lastly, the first letter in the name should be correlated to shark attacks, however we are probably going to find some correlation because there are names that are more common than others. \n",
    "\n"
   ]
  },
  {
   "cell_type": "code",
   "execution_count": 8,
   "metadata": {},
   "outputs": [
    {
     "data": {
      "text/plain": [
       "Index(['Case Number', 'Date', 'Year', 'Type', 'Country', 'Area', 'Location',\n",
       "       'Activity', 'Name', 'Sex ', 'Age', 'Injury', 'Fatal (Y/N)', 'Time',\n",
       "       'Species ', 'Investigator or Source', 'pdf', 'href formula', 'href',\n",
       "       'Case Number.1', 'Case Number.2', 'original order'],\n",
       "      dtype='object')"
      ]
     },
     "execution_count": 8,
     "metadata": {},
     "output_type": "execute_result"
    }
   ],
   "source": [
    "df.columns"
   ]
  },
  {
   "cell_type": "code",
   "execution_count": 10,
   "metadata": {},
   "outputs": [
    {
     "name": "stdout",
     "output_type": "stream",
     "text": [
      "['F', 'M', nan, 'M ', 'lli', 'N', '.'] 7\n"
     ]
    }
   ],
   "source": [
    "a = list(df['Sex '].unique())\n",
    "print(a, len(a))"
   ]
  },
  {
   "cell_type": "code",
   "execution_count": 11,
   "metadata": {},
   "outputs": [
    {
     "name": "stdout",
     "output_type": "stream",
     "text": [
      "['57', '11', '48', nan, '18', '52', '15', '12', '32', '10', '21', '34', '30', '60', '33', '29', '54', '41', '37', '56', '19', '25', '69', '38', '55', '35', '46', '45', '14', '40s', '28', '20', '24', '26', '49', '22', '7', '31', '17', '40', '13', '42', '3', '8', '50', '16', '82', '73', '20s', '68', '51', '39', '58', 'Teen', '47', '61', '65', '36', '66', '43', '60s', '9', '72', '59', '6', '27', '64', '23', '71', '44', '62', '63', '70', '18 months', '53', '30s', '50s', 'teen', '77', '74', '28 & 26', '5', '86', '18 or 20', '12 or 13', '46 & 34', '28, 23 & 30', 'Teens', '36 & 26', '8 or 10', '84', '\\xa0 ', ' ', '30 or 36', '6½', '21 & ?', '75', '33 or 37', 'mid-30s', '23 & 20', ' 30', '7      &    31', ' 28', '20?', \"60's\", '32 & 30', '16 to 18', '87', '67', 'Elderly', 'mid-20s', 'Ca. 33', '74 ', '45 ', '21 or 26', '20 ', '>50', '18 to 22', 'adult', '9 & 12', '? & 19', '9 months', '25 to 35', '23 & 26', '1', '(adult)', '33 & 37', '25 or 28', '37, 67, 35, 27,  ? & 27', '21, 34,24 & 35', '30 & 32', '50 & 30', '17 & 35', 'X', '\"middle-age\"', '13 or 18', '34 & 19', '33 & 26', '2 to 3 months', 'MAKE LINE GREEN', ' 43', '81', '\"young\"', '7 or 8', '78', '17 & 16', 'F', 'Both 11', '9 or 10', 'young', '36 & 23', '  ', 'A.M.', '?    &   14', '10 or 12', '31 or 33', '2½', '13 or 14'] 158\n"
     ]
    }
   ],
   "source": [
    "a = list(df['Age'].unique())\n",
    "print(a, len(a))"
   ]
  },
  {
   "cell_type": "code",
   "execution_count": 13,
   "metadata": {},
   "outputs": [
    {
     "name": "stdout",
     "output_type": "stream",
     "text": [
      "['Julie Wolfe', 'Adyson\\xa0McNeely ', 'John Denges', 'male', 'Gustavo Ramos ', 'Chris \\x85', 'Jose Ernesto da Silva ', 'Cody High', 'Trey de Boer', 'Jei Turrell'] 5231\n"
     ]
    }
   ],
   "source": [
    "a = list(df[''].unique())\n",
    "print(a[:10], len(a))"
   ]
  },
  {
   "cell_type": "code",
   "execution_count": null,
   "metadata": {},
   "outputs": [],
   "source": []
  }
 ],
 "metadata": {
  "interpreter": {
   "hash": "d00a1931e609772884d4e4263bd83cd526fe20ad88d0f2499e0ed4fd2f889d0e"
  },
  "kernelspec": {
   "display_name": "Python 3.8.5 64-bit ('ironhack': conda)",
   "language": "python",
   "name": "python3"
  },
  "language_info": {
   "codemirror_mode": {
    "name": "ipython",
    "version": 3
   },
   "file_extension": ".py",
   "mimetype": "text/x-python",
   "name": "python",
   "nbconvert_exporter": "python",
   "pygments_lexer": "ipython3",
   "version": "3.8.5"
  },
  "orig_nbformat": 4
 },
 "nbformat": 4,
 "nbformat_minor": 2
}
